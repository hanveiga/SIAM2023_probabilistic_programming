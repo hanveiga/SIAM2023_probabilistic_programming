{
  "nbformat": 4,
  "nbformat_minor": 0,
  "metadata": {
    "colab": {
      "provenance": []
    },
    "kernelspec": {
      "name": "python3",
      "display_name": "Python 3"
    },
    "language_info": {
      "name": "python"
    }
  },
  "cells": [
    {
      "cell_type": "markdown",
      "source": [
        "# Bayesian Scientific Computing and Probabilistic Programming: inside and outside the “black box” \n",
        "\n",
        "Bayesian methods are increasingly important in scientific computing where uncertainties and incomplete information play a role. This mini-tutorial will walk participants through the basic probabilistic concepts to give the understanding of how inverse problems and parameter estimation problems can be recast in the form of Bayesian inference, as well as equip them with hands-on tools for tackling such problems. The minitutorial will consist of two parts.\n",
        "\n",
        "\n",
        " \n",
        "\n",
        "## Part I - [Daniela Calvetti](https://mathstats.case.edu/faculty/daniela-calvetti/), [Erkki Somersalo](https://mathstats.case.edu/faculty/erkki-somersalo/)\n",
        " \n",
        "will begin with the explanation of the overarching Bayesian philosophy, followed by the fundamentals of modelling and computation.  Participants will be provided with basic programs in Matlab that will be tested on both static as well as  evolutionary time-dependent problems. By the end of this session participants will have overcome the fear of looking inside the “black box” of Bayesian inference and have laid a foundation for building their own Bayesian scientific computing codes.\n",
        "\n",
        "\n",
        "\n",
        "\n",
        "\n",
        "## Part II - [Elizaveta Semenova](https://elizaveta-semenova.com/), [Maria han Veiga]()\n",
        "will explain what probabilistic programming languages are in the modern landscape, and  demonstrate abilities of one of such easy-to-use software packages. This “black box” approach will equip participants with a tool allowing them to focus on the scientific problem of interest, while inference is being taken care of by the inference engine. We will show how to use Python libraries to perform exact Bayesian inference (using Markov Chain Monte Carlo technique) as well as approximate techniques (such as variational inference)."
      ],
      "metadata": {
        "id": "AwvjP98tKlDI"
      }
    },
    {
      "cell_type": "markdown",
      "source": [
        "## Part II: probabilistic programming."
      ],
      "metadata": {
        "id": "0xYDeL_9NwB1"
      }
    },
    {
      "cell_type": "markdown",
      "source": [
        "- Parameter inference (coin toss)\n",
        "  - Explicitly\n",
        "  - MCMC \n",
        "\n",
        "- Introduction to Pyro:   \n",
        "  - Guides / models / etc\n",
        "  - Revisiting the coin toss parameter inference (MCMC)\n",
        "  - Variational inference\n",
        "  - Bayesian Linear regression"
      ],
      "metadata": {
        "id": "1vxyE56zy10_"
      }
    },
    {
      "cell_type": "code",
      "source": [
        "import numpy as np\n",
        "import scipy.stats as stats\n",
        "import matplotlib.pyplot as plt\n",
        "import math\n",
        "plt.style.use('seaborn-darkgrid')"
      ],
      "metadata": {
        "id": "hfzDrTNjqQ1V"
      },
      "execution_count": 1,
      "outputs": []
    },
    {
      "cell_type": "code",
      "source": [
        "##############################################\n",
        "# prior x likelihood = posterior\n",
        "##############################################\n",
        "\n",
        "# coin toss with unknown parameter param\n",
        "\n",
        "def flip_coin(sucess, n_prev, n,param=0.2):\n",
        "  for i in range(n):\n",
        "    p = stats.bernoulli.rvs(param,size=1)\n",
        "    if p == 1:\n",
        "      sucess+=1\n",
        "    else:\n",
        "      sucess = sucess\n",
        "  return sucess, n_prev+n\n",
        "\n",
        "sucess, n = flip_coin(0,0,10)\n",
        "print(sucess,n)\n",
        "\n",
        "# define grid points\n",
        "grid_points=100\n",
        "\n",
        "# define grid\n",
        "p_grid = np.linspace(0, 1, grid_points)\n",
        "\n",
        "# compute likelihood at each point in the grid\n",
        "likelihood = stats.binom.pmf(300, 600, p_grid)\n",
        "prior1 = np.repeat(1, grid_points)"
      ],
      "metadata": {
        "id": "FUN0Xi_MqRQD",
        "colab": {
          "base_uri": "https://localhost:8080/"
        },
        "outputId": "b510fa89-2cb5-4320-f333-8e03e1e3e351"
      },
      "execution_count": 2,
      "outputs": [
        {
          "output_type": "stream",
          "name": "stdout",
          "text": [
            "3 10\n"
          ]
        }
      ]
    },
    {
      "cell_type": "code",
      "source": [
        "def computePosterior(likelihood, prior):\n",
        "    \n",
        "    # compute product of likelihood and prior\n",
        "    unstd_posterior = likelihood * prior\n",
        "\n",
        "    # standardize posterior\n",
        "    posterior = unstd_posterior / unstd_posterior.sum()\n",
        "    \n",
        "    plt.figure(figsize=(17, 3))\n",
        "    ax1 = plt.subplot(131)\n",
        "    ax1.set_title(\"Prior\")\n",
        "    plt.plot(p_grid, prior)\n",
        "\n",
        "    ax2 = plt.subplot(132)\n",
        "    ax2.set_title(\"Likelihood\")\n",
        "    plt.plot(p_grid, likelihood)\n",
        "\n",
        "    ax3 = plt.subplot(133)\n",
        "    ax3.set_title(\"Posterior\")\n",
        "    plt.plot(p_grid, posterior)\n",
        "    plt.show()\n",
        "    \n",
        "    return posterior"
      ],
      "metadata": {
        "id": "eByFibrwqRZq"
      },
      "execution_count": 3,
      "outputs": []
    },
    {
      "cell_type": "code",
      "source": [
        "prior1 = np.repeat(1, grid_points)  \n",
        "sucess, n = flip_coin(0,0,100)\n",
        "print(sucess,n)\n",
        "likelihood = stats.binom.pmf(sucess, n, p_grid)\n",
        "posterior = computePosterior(likelihood, prior1)\n",
        "\n",
        "\n",
        "sucess, n = flip_coin(sucess,100,1000)\n",
        "print(sucess,n)\n",
        "likelihood = stats.binom.pmf(sucess, n, p_grid)\n",
        "posterior1 = computePosterior(likelihood, posterior)"
      ],
      "metadata": {
        "colab": {
          "base_uri": "https://localhost:8080/",
          "height": 464
        },
        "id": "4ZAj2aNaqRdq",
        "outputId": "e78b70b7-2b50-4c0d-d560-f4352774eb09"
      },
      "execution_count": 4,
      "outputs": [
        {
          "output_type": "stream",
          "name": "stdout",
          "text": [
            "17 100\n"
          ]
        },
        {
          "output_type": "display_data",
          "data": {
            "text/plain": [
              "<Figure size 1224x216 with 3 Axes>"
            ],
            "image/png": "[encoded data removed]"
          },
          "metadata": {}
        },
        {
          "output_type": "stream",
          "name": "stdout",
          "text": [
            "213 1100\n"
          ]
        },
        {
          "output_type": "display_data",
          "data": {
            "text/plain": [
              "<Figure size 1224x216 with 3 Axes>"
            ],
            "image/png": "[encoded data removed]"
          },
          "metadata": {}
        }
      ]
    },
    {
      "cell_type": "code",
      "source": [
        "prior2 = (p_grid >= 0.25).astype(int)\n",
        "# different prior\n"
      ],
      "metadata": {
        "id": "akBoC_lhqRhZ"
      },
      "execution_count": 5,
      "outputs": []
    },
    {
      "cell_type": "code",
      "source": [
        "prior3 = np.exp(- 5 * abs(p_grid - 0.5)) \n",
        "# different prior"
      ],
      "metadata": {
        "id": "a0pm5iVHqRlk"
      },
      "execution_count": 6,
      "outputs": []
    },
    {
      "cell_type": "markdown",
      "source": [
        "We have now seen an example where we could calculate the posterior exactly. It is not always possible. Iterative algorithms exist, such as MCMC, to estimate the posterior numerically.\n",
        "\n",
        "# MCMC Metropolis-Hastings \n",
        "\n",
        "Given a probability density $\\pi$ called\n",
        "the _target_, defined on a state space\n",
        "$X$, and computable up to a multiplying constant, $\\pi(x) \\propto \\tilde{\\pi}(x)$, the __Metropolis–Hastings__ (1953,1970) algorithm, proposes a generic way to construct a Markov chain on $X$ that is ergodic and stationary with respect to $\\pi$, meaning that, if $X(t) \\sim \\pi(x)$, then $X(t+1) \\sim \\pi(x)$ — and that therefore converges in distribution to $\\pi$.\n",
        "\n",
        "The main motivation for using Markov chains is that they provide shortcuts in cases where generic sampling requires too much effort from the experimenter. Markov chains construct a progressive picture of the target distribution, proceeding by local exploration of the state space $X$ until all the regions of interest have been uncovered.\n",
        "\n",
        "## The algorithm\n",
        "\n",
        "The Metropolis–Hastings algorithm\n",
        "associated with a target density $\\pi$ requires the choice of a conditional density $q$ also called proposal or candidate\n",
        "kernel. The transition from the value\n",
        "of the Markov chain $X(t)$ at time $t$\n",
        "and its value at time $t + 1$ proceeds\n",
        "via the following transition step:\n",
        "\n",
        "1. Given $x=X(t)$\n",
        "2. Generate $y_t= q(y|x) $  \n",
        "\n",
        "3. $ X(t+1) = \\begin{cases} \n",
        "      Y_t & \\mbox{with probability} \\quad  p \\\\\n",
        "      x & \\mbox{with probability}  \\quad 1-p\n",
        "   \\end{cases} $\n",
        "\n",
        "   where $p = min\\left(\\frac{\\tilde{\\pi}(y)}{\\tilde{\\pi}(x)} \\frac{q(x|y)}{q(y|x)},1 \\right)$\n"
      ],
      "metadata": {
        "id": "DtMz_KMDvIx3"
      }
    },
    {
      "cell_type": "code",
      "source": [
        "def target(likelihood, prior, n, h, parameter):\n",
        "    if parameter < 0 or parameter > 1:\n",
        "        return 0\n",
        "    else:\n",
        "        return likelihood(n, parameter).pmf(h)*prior.pdf(parameter)"
      ],
      "metadata": {
        "id": "s64eAEWQq-bX"
      },
      "execution_count": 7,
      "outputs": []
    },
    {
      "cell_type": "code",
      "source": [
        "h, n = flip_coin(0,0,100,param=0.3)\n",
        "a = 10\n",
        "b = 10\n",
        "likelihood = stats.binom\n",
        "prior = stats.beta(a, b)\n",
        "sigma = 0.3"
      ],
      "metadata": {
        "id": "PzGUxW8RrYY5"
      },
      "execution_count": 8,
      "outputs": []
    },
    {
      "cell_type": "code",
      "source": [
        "naccept = 0\n",
        "parameter = 0.1 # initial value for parameter\n",
        "niters = 10000\n",
        "\n",
        "samples = np.zeros(niters+1)\n",
        "samples[0] = parameter\n",
        "\n",
        "for i in range(niters):\n",
        "    parameter_p = parameter + stats.norm(0, sigma).rvs()\n",
        "    rho = min(1, target(likelihood, prior, n, h, parameter_p)/target(likelihood, prior, n, h, parameter ))\n",
        "    u = np.random.uniform()\n",
        "    if u < rho:\n",
        "        naccept += 1\n",
        "        parameter = parameter_p\n",
        "    samples[i+1] = parameter"
      ],
      "metadata": {
        "id": "IHa3kAJ2rYdo"
      },
      "execution_count": 9,
      "outputs": []
    },
    {
      "cell_type": "code",
      "source": [
        "nmcmc = len(samples)//2\n",
        "print(\"Portion of accepted steps = \" + str(naccept/niters))"
      ],
      "metadata": {
        "colab": {
          "base_uri": "https://localhost:8080/"
        },
        "id": "VwEsIlZmrYhX",
        "outputId": "f009a659-efaf-4755-a991-c2b383ff511f"
      },
      "execution_count": 10,
      "outputs": [
        {
          "output_type": "stream",
          "name": "stdout",
          "text": [
            "Portion of accepted steps = 0.1654\n"
          ]
        }
      ]
    },
    {
      "cell_type": "code",
      "source": [
        "post = stats.beta(h+a, n-h+b)\n",
        "thetas = np.linspace(0, 1, 200)\n",
        "\n",
        "plt.figure(figsize=(8, 6))\n",
        "plt.hist(samples[nmcmc:], 20, histtype='step', linewidth=1, label='Distribution of posterior samples', density=True);\n",
        "plt.hist(prior.rvs(nmcmc), 40, histtype='step',  linewidth=1, label='Distribution of prior samples', density=True);\n",
        "plt.plot(thetas, post.pdf(thetas), c='red', linestyle='--', alpha=0.5, label='True posterior')\n",
        "plt.xlim([0,1]);\n",
        "plt.legend(loc='best');"
      ],
      "metadata": {
        "colab": {
          "base_uri": "https://localhost:8080/",
          "height": 373
        },
        "id": "WgVQW9iurYk6",
        "outputId": "4226ed5f-23b9-4286-bd11-2faff5ea974c"
      },
      "execution_count": 11,
      "outputs": [
        {
          "output_type": "display_data",
          "data": {
            "text/plain": [
              "<Figure size 576x432 with 1 Axes>"
            ],
            "image/png": "[encoded data removed]"
          },
          "metadata": {}
        }
      ]
    },
    {
      "cell_type": "code",
      "source": [
        "## Convergence diagnostics\n",
        "\n",
        "def mh_coin(niters, n, h, parameter, likelihood, prior, sigma):\n",
        "    samples = [parameter]\n",
        "    while len(samples) < niters:\n",
        "        parameter_p = parameter + stats.norm(0, sigma).rvs()\n",
        "        rho = min(1, target(likelihood, prior, n, h, parameter_p)/target(likelihood, prior, n, h, parameter ))\n",
        "        u = np.random.uniform()\n",
        "        if u < rho:\n",
        "            parameter = parameter_p\n",
        "        samples.append(parameter)\n",
        "        \n",
        "    return samples\n"
      ],
      "metadata": {
        "id": "FE_zgHQprYoa"
      },
      "execution_count": 12,
      "outputs": []
    },
    {
      "cell_type": "markdown",
      "source": [
        "Computing several chains"
      ],
      "metadata": {
        "id": "eUeFUNzHIsZO"
      }
    },
    {
      "cell_type": "code",
      "source": [
        "h, n = flip_coin(0,0,100,param=0.3)\n",
        "lik = stats.binom\n",
        "prior = stats.beta(a, b)\n",
        "sigma = 0.05\n",
        "niters = 500"
      ],
      "metadata": {
        "id": "QUashgx2rYsH"
      },
      "execution_count": 13,
      "outputs": []
    },
    {
      "cell_type": "code",
      "source": [
        "chains = [mh_coin(niters, n, h, parameter, likelihood, prior, sigma) for parameter in np.arange(0.1, 1, 0.2)]"
      ],
      "metadata": {
        "id": "0Z7wzP0xrYvs"
      },
      "execution_count": 14,
      "outputs": []
    },
    {
      "cell_type": "code",
      "source": [
        "plt.figure(figsize=(8, 6))\n",
        "\n",
        "for chain in chains:\n",
        "    plt.plot(chain, '-o')\n",
        "    \n",
        "plt.xlim([0, niters])\n",
        "plt.ylim([0, 1]);"
      ],
      "metadata": {
        "colab": {
          "base_uri": "https://localhost:8080/",
          "height": 375
        },
        "id": "i4ddRH0trYzb",
        "outputId": "456fa884-8e9d-4948-fa98-8824550d79f8"
      },
      "execution_count": 15,
      "outputs": [
        {
          "output_type": "display_data",
          "data": {
            "text/plain": [
              "<Figure size 576x432 with 1 Axes>"
            ],
            "image/png": "[encoded data removed]"
          },
          "metadata": {}
        }
      ]
    },
    {
      "cell_type": "code",
      "source": [
        "for chain in chains:\n",
        "  plt.xlim([0,1])\n",
        "  plt.hist(chain,histtype='step', linewidth=1,density=True)\n",
        "plt.plot(thetas, post.pdf(thetas), c='red', linestyle='--', alpha=0.5, label='True posterior')\n",
        "\n",
        "plt.legend()"
      ],
      "metadata": {
        "colab": {
          "base_uri": "https://localhost:8080/",
          "height": 280
        },
        "id": "M2E-QN5_4ult",
        "outputId": "8fc70951-10b5-436b-8352-4f357132a1a2"
      },
      "execution_count": 16,
      "outputs": [
        {
          "output_type": "execute_result",
          "data": {
            "text/plain": [
              "<matplotlib.legend.Legend at 0x7f12a006f250>"
            ]
          },
          "metadata": {},
          "execution_count": 16
        },
        {
          "output_type": "display_data",
          "data": {
            "text/plain": [
              "<Figure size 432x288 with 1 Axes>"
            ],
            "image/png": "[encoded data removed]"
          },
          "metadata": {}
        }
      ]
    },
    {
      "cell_type": "markdown",
      "source": [
        "# Probabilistic programming languages (PPLs)"
      ],
      "metadata": {
        "id": "TItqtGZ-RfWD"
      }
    },
    {
      "cell_type": "markdown",
      "source": [
        "### 1st generation: Bugs, WinBugs, Jags, etc.\n",
        "\n",
        "- Inference engine based on Monte Carlo methods.\n",
        "\n",
        "- They did not scale to large data samples/high-dimensional models."
      ],
      "metadata": {
        "id": "YUu1_SMIRhn5"
      }
    },
    {
      "cell_type": "markdown",
      "source": [
        "### 2nd generation: Infer.net, Factorie, Amidst, etc.\n",
        "\n",
        "- Inference engine based on message passage algorithms and/or variational\n",
        "inference methods.\n",
        "\n",
        "- They did scale to large data samples/high-dimensional models.\n",
        "\n",
        "- Restricted probabilistic model family (i.e. factor graphs, conjuage exponential family, etc.)"
      ],
      "metadata": {
        "id": "zO8qRRwtR1ZU"
      }
    },
    {
      "cell_type": "markdown",
      "source": [
        "### 3rd generation: Stan, TensorFlow Probability, PyMC3, Pyro, Numpyro, Turing.jl, NIMBLE, Edward, InferPy, etc\n",
        "\n",
        "- Hamiltonian Monte-Carlo, Black Box Variational Inference, etc\n",
        "\n",
        "- They did scale to large data samples/high-dimensional models.\n",
        "\n",
        "- Enable probabilistic models with deep neural networks:\n",
        "  - Rely on deep learning frameworks (TensorFlow, Pytorch, Theano, etc).\n",
        "  - Specialized hardware like GPUs, TPUs, etc.\n",
        "  - Automatic differentiation methods.\n"
      ],
      "metadata": {
        "id": "dZZGVHR-SG8-"
      }
    },
    {
      "cell_type": "markdown",
      "source": [
        "## Pyro (www.pyro.ai)\n",
        "\n",
        "PyRo demo: https://colab.research.google.com/drive/1Wkc8izTsjCrUrNwKKQL4K9uSxDIaPZWp?usp=sharing"
      ],
      "metadata": {
        "id": "5RTjjd03swGz"
      }
    },
    {
      "cell_type": "code",
      "source": [
        "!pip install -q --upgrade pyro-ppl torch"
      ],
      "metadata": {
        "id": "dagAYkNAzwd8"
      },
      "execution_count": 17,
      "outputs": []
    },
    {
      "cell_type": "code",
      "source": [
        "import pyro\n",
        "import torch\n",
        "import pyro.distributions as dist\n",
        "from pyro.infer.mcmc import MCMC, NUTS, HMC\n",
        "\n",
        "print(pyro.__version__)"
      ],
      "metadata": {
        "id": "gn8skbgks6UW",
        "colab": {
          "base_uri": "https://localhost:8080/"
        },
        "outputId": "0062b76d-58c7-449a-cbae-dec63b57aea9"
      },
      "execution_count": 18,
      "outputs": [
        {
          "output_type": "stream",
          "name": "stdout",
          "text": [
            "1.8.4\n"
          ]
        }
      ]
    },
    {
      "cell_type": "markdown",
      "source": [
        "## Pyro's dstributions:\n",
        "\n",
        "https://docs.pyro.ai/en/stable/distributions.html"
      ],
      "metadata": {
        "id": "H5zLdFQYdo8Y"
      }
    },
    {
      "cell_type": "code",
      "source": [
        "normal = dist.Normal(0,1)\n",
        "normal"
      ],
      "metadata": {
        "id": "QVc5h49LdzwC",
        "colab": {
          "base_uri": "https://localhost:8080/"
        },
        "outputId": "93835a17-3a9c-4aef-b18b-9b2fb9abe38d"
      },
      "execution_count": 19,
      "outputs": [
        {
          "output_type": "execute_result",
          "data": {
            "text/plain": [
              "Normal(loc: 0.0, scale: 1.0)"
            ]
          },
          "metadata": {},
          "execution_count": 19
        }
      ]
    },
    {
      "cell_type": "code",
      "source": [
        "sample = normal.sample()\n",
        "sample"
      ],
      "metadata": {
        "id": "xeZ5GhnSd3R0",
        "colab": {
          "base_uri": "https://localhost:8080/"
        },
        "outputId": "7cbc7033-f10d-4bcc-c9ab-aeba9afc7dad"
      },
      "execution_count": 20,
      "outputs": [
        {
          "output_type": "execute_result",
          "data": {
            "text/plain": [
              "tensor(0.6268)"
            ]
          },
          "metadata": {},
          "execution_count": 20
        }
      ]
    },
    {
      "cell_type": "code",
      "source": [
        "sample = normal.sample(sample_shape=[3,4,5])\n",
        "print(sample)\n",
        "print(sample.shape)"
      ],
      "metadata": {
        "id": "iZoERyANd566",
        "colab": {
          "base_uri": "https://localhost:8080/"
        },
        "outputId": "6563e3fd-0f71-4020-9009-576a05cd8ddb"
      },
      "execution_count": 21,
      "outputs": [
        {
          "output_type": "stream",
          "name": "stdout",
          "text": [
            "tensor([[[-0.4223, -2.7189, -0.9832, -0.0682, -1.5115],\n",
            "         [-0.6253, -0.6901, -1.9122,  0.0162, -1.7011],\n",
            "         [ 3.2385,  1.2886, -0.7373, -0.4792, -0.2792],\n",
            "         [ 1.3821, -0.6459, -0.2887, -0.2134,  1.7973]],\n",
            "\n",
            "        [[ 0.3191, -0.9647, -0.9471, -1.1906,  0.4123],\n",
            "         [-0.9863, -0.7400,  0.0915, -1.7202, -0.0730],\n",
            "         [ 0.7836, -0.1455,  1.2005,  1.0932,  1.6605],\n",
            "         [ 0.2147, -0.9787, -0.3630,  1.4467, -0.1810]],\n",
            "\n",
            "        [[-0.4394,  1.3861,  0.8180, -0.0873, -0.1662],\n",
            "         [-0.7696, -0.0996,  0.8778,  0.3753,  0.5348],\n",
            "         [-1.4372, -0.5173,  1.0872,  0.7881, -0.3045],\n",
            "         [ 0.2338, -1.6379, -1.3919, -0.6510, -1.6629]]])\n",
            "torch.Size([3, 4, 5])\n"
          ]
        }
      ]
    },
    {
      "cell_type": "code",
      "source": [
        "normal.log_prob(sample)"
      ],
      "metadata": {
        "id": "GX4pX7zQd__c",
        "colab": {
          "base_uri": "https://localhost:8080/"
        },
        "outputId": "542cbeb3-83fe-4d3e-efd8-001979244aa3"
      },
      "execution_count": 22,
      "outputs": [
        {
          "output_type": "execute_result",
          "data": {
            "text/plain": [
              "tensor([[[-1.0081, -4.6150, -1.4023, -0.9213, -2.0613],\n",
              "         [-1.1145, -1.1571, -2.7473, -0.9191, -2.3659],\n",
              "         [-6.1630, -1.7491, -1.1908, -1.0338, -0.9579],\n",
              "         [-1.8741, -1.1275, -0.9606, -0.9417, -2.5341]],\n",
              "\n",
              "        [[-0.9698, -1.3843, -1.3674, -1.6277, -1.0039],\n",
              "         [-1.4054, -1.1927, -0.9231, -2.3985, -0.9216],\n",
              "         [-1.2260, -0.9295, -1.6395, -1.5165, -2.2975],\n",
              "         [-0.9420, -1.3978, -0.9848, -1.9654, -0.9353]],\n",
              "\n",
              "        [[-1.0155, -1.8795, -1.2535, -0.9227, -0.9327],\n",
              "         [-1.2151, -0.9239, -1.3042, -0.9894, -1.0619],\n",
              "         [-1.9517, -1.0527, -1.5099, -1.2295, -0.9653],\n",
              "         [-0.9463, -2.2602, -1.8876, -1.1308, -2.3016]]])"
            ]
          },
          "metadata": {},
          "execution_count": 22
        }
      ]
    },
    {
      "cell_type": "markdown",
      "source": [
        "## Pyro's models:\n",
        "\n",
        "https://pyro.ai/examples/intro_long.html"
      ],
      "metadata": {
        "id": "qYwhp6_vebNm"
      }
    },
    {
      "cell_type": "markdown",
      "source": [
        "Probabilistic models in Pyro are specified as Python functions __model(\\*args, \\**kwargs)__ that generate observed data from latent variables using special primitive functions whose behavior can be changed by Pyro’s internals depending on the high-level computation being performed.\n",
        "\n",
        "Specifically, the different mathematical pieces of __model()__ are encoded via the mapping:\n",
        "\n",
        "latent random variables $z$ -- _pyro.sample_\n",
        "\n",
        "observed random variables $x$ -- _pyro.sample_ with the 'obs' keyword argument\n",
        "\n",
        "learnable parameters $\\theta$ -- _pyro.param_\n",
        "\n",
        "plates -- _pyro.plate_ context managers"
      ],
      "metadata": {
        "id": "a0xMBkKX0NZD"
      }
    },
    {
      "cell_type": "markdown",
      "source": [
        "Revisiting coin flip using pyro MCMC"
      ],
      "metadata": {
        "id": "p6A6b3_bmBn8"
      }
    },
    {
      "cell_type": "code",
      "source": [
        "def model(data):\n",
        "    # set prior\n",
        "    alpha0 = torch.tensor(10.0)\n",
        "    beta0 = torch.tensor(10.0)\n",
        "    prior = dist.Beta(alpha0, beta0)\n",
        "\n",
        "    # sample z from the prior\n",
        "    z = pyro.sample(\"z\", prior)\n",
        "\n",
        "    with pyro.plate(\"data_plate\"):    \n",
        "        # observe data\n",
        "        pyro.sample(\"obs\", dist.Bernoulli(z), obs=data)"
      ],
      "metadata": {
        "id": "WKVDq4m7eat2"
      },
      "execution_count": 23,
      "outputs": []
    },
    {
      "cell_type": "code",
      "source": [
        "p = stats.bernoulli.rvs(0.2,size=20)      \n",
        "data = torch.tensor(p,dtype=float)"
      ],
      "metadata": {
        "id": "OSLCjzKJVSSn"
      },
      "execution_count": 24,
      "outputs": []
    },
    {
      "cell_type": "code",
      "source": [
        "data"
      ],
      "metadata": {
        "colab": {
          "base_uri": "https://localhost:8080/"
        },
        "id": "DGeEgCRKV6WK",
        "outputId": "5c324b0b-2a4f-4cea-9e39-9f56045cd61d"
      },
      "execution_count": 25,
      "outputs": [
        {
          "output_type": "execute_result",
          "data": {
            "text/plain": [
              "tensor([0., 0., 1., 0., 0., 0., 0., 0., 1., 1., 0., 0., 1., 1., 1., 1., 0., 0.,\n",
              "        0., 0.], dtype=torch.float64)"
            ]
          },
          "metadata": {},
          "execution_count": 25
        }
      ]
    },
    {
      "cell_type": "code",
      "source": [
        "kernel = HMC(model) # Hamiltonian Monte Carlo:  Compared to using a Gaussian random walk\n",
        "                    # proposal distribution in the Metropolis–Hastings algorithm,\n",
        "                    # Hamiltonian Monte Carlo reduces the correlation between\n",
        "                    # successive sampled states by proposing moves to distant\n",
        "                    # states which maintain a high probability of acceptance. \n",
        "                    \n",
        "m = MCMC(kernel, num_samples=1000, num_chains=2)\n",
        "m.run(data = data)"
      ],
      "metadata": {
        "id": "41vJA72uearS",
        "colab": {
          "base_uri": "https://localhost:8080/"
        },
        "outputId": "242c007b-c73a-4777-d7d0-4165f1003629"
      },
      "execution_count": null,
      "outputs": [
        {
          "output_type": "stream",
          "name": "stderr",
          "text": [
            "/usr/local/lib/python3.8/dist-packages/pyro/infer/mcmc/api.py:497: UserWarning: num_chains=2 is more than available_cpu=1. Chains will be drawn sequentially.\n",
            "  warnings.warn(\n",
            "Warmup [0]:  40%|███▉      | 794/2000 [00:12, 68.74it/s, step size=1.17e+00, acc. prob=0.789]"
          ]
        }
      ]
    },
    {
      "cell_type": "code",
      "source": [
        "samples = m.get_samples()\n",
        "plt.xlim([0,1])\n",
        "plt.hist(samples['z'],histtype='step', linewidth=1,density=True)"
      ],
      "metadata": {
        "id": "WTbuui4okPho"
      },
      "execution_count": null,
      "outputs": []
    },
    {
      "cell_type": "markdown",
      "source": [
        "# Approximate posterior estimation: variational inference\n",
        "\n",
        "Bayesian inference involves characterizing the posterior\n",
        "\n",
        "\\begin{align}\n",
        "  p(\\theta|y,d) = \\frac{p(y|\\theta,d)p(\\theta)}{p(y)},\n",
        "\\end{align}\n",
        "\n",
        "where $p(\\theta|y,d)$ is the posterior, $p(\\theta)$ is the prior, $p(y|\\theta,d)$ is the likelihood, and $p(y)$ is the evidence. \n",
        "\n",
        "Variational inference approximates the Bayesian posterior with a density $q(\\theta;\\lambda)$, chosen from a parametric family of\n",
        "densities that is closest to the true posterior in the Kullback-Leibler (KL) divergence sense, namely:\n",
        "\n",
        "\\begin{align}\n",
        "  \\lambda^{\\ast} &= \\mbox{argmin}_{\\lambda}\n",
        "  KL\\left[q(\\theta;\\lambda)||p(\\theta|y)\\right] \\nonumber\n",
        "\\end{align}\n",
        "\n",
        "![imageinfo](https://hanveiga.com/vi.png)\n",
        "\n",
        "The KL divergence between $q$ and $p$ can be written as:\n",
        "\n",
        "\\begin{align}\n",
        "  KL\\left[q(\\theta;\\lambda)||p(\\theta|y)\\right] &= \\mathbb{E}_{q}\\left[\\ln q(\\theta;\\lambda)\\right] - \\mathbb{E}_{q}\\left[\\ln p(\\theta|y)\\right]\\\\\n",
        "  &= \\mathbb{E}_{q}\\left[\\ln q(\\theta;\\lambda)\\right] - \\mathbb{E}_{q}\\left[\\ln p(y|\\theta)\\right] - \\mathbb{E}_{q}\\left[\\ln p(\\theta)\\right] + \\mathbb{E}_{q}\\left[\\ln p(y)\\right]\\end{align}\n",
        "\n",
        "We can rewrite the minimisation above as:\n",
        "\\begin{align}\n",
        "  \\mbox{argmin}_{\\lambda}\n",
        "  KL\\left[q(\\theta;\\lambda)||p(\\theta|y)\\right] &= \\mbox{argmax}_{\\lambda} \\mathbb{E}_{q}\\left[\\ln p(y|\\theta)\\right] + \\mathbb{E}_{q}\\left[\\ln p(\\theta)\\right] - \\mathbb{E}_{q}\\left[\\ln q(\\theta;\\lambda)\\right]\n",
        "\\end{align}\n",
        "to arrive at the well-known evidence lower bound (ELBO).\n",
        "\n",
        "In variational inference, we seek parameters $\\lambda$ that maximizes the ELBO, considering a distribution belonging to some fixed family of distributions. We turn the problem of computing the posterior into an optimisation problem."
      ],
      "metadata": {
        "id": "9Bye4S2Hmfcd"
      }
    },
    {
      "cell_type": "code",
      "source": [
        "from pyro.optim import Adam\n",
        "from pyro.infer import SVI, Trace_ELBO\n",
        "import torch.distributions.constraints as constraints\n",
        "\n",
        "# in addition to model, we must define the \"guide\", which describes the\n",
        "# variational inference family of distributions\n",
        "\n",
        "# https://pyro.ai/examples/svi_part_i.html\n",
        "\n",
        "def guide(data):\n",
        "    # register the two variational parameters with Pyro.\n",
        "    # family of distributions: Beta distributions\n",
        "\n",
        "    a_q = pyro.param(\"a_q\", torch.tensor(10.0),\n",
        "                        constraint=constraints.positive)\n",
        "    b_q = pyro.param(\"b_q\", torch.tensor(10.0),\n",
        "                        constraint=constraints.positive)\n",
        "    \n",
        "    # sample coin parameter from the distribution Beta(a_q, b_q)\n",
        "    pyro.sample(\"z\", dist.Beta(a_q, b_q))"
      ],
      "metadata": {
        "id": "lCo8XAXh1wgn"
      },
      "execution_count": null,
      "outputs": []
    },
    {
      "cell_type": "code",
      "source": [
        "# set up the optimizer\n",
        "adam_params = {\"lr\": 0.05, \"betas\": (0.90, 0.999)}\n",
        "optimizer = Adam(adam_params)\n",
        "\n",
        "# setup the inference algorithm\n",
        "svi = SVI(model, guide, optimizer, loss=Trace_ELBO())\n",
        "\n",
        "n_steps = 5000\n",
        "\n",
        "# do gradient steps\n",
        "for step in range(n_steps):\n",
        "    svi.step(data)\n"
      ],
      "metadata": {
        "id": "mmr0lJhNmeyE"
      },
      "execution_count": null,
      "outputs": []
    },
    {
      "cell_type": "code",
      "source": [
        "# grab the learned variational parameters\n",
        "a_q = pyro.param(\"a_q\").item()\n",
        "b_q = pyro.param(\"b_q\").item()\n",
        "\n",
        "# here we use some facts about the Beta distribution\n",
        "# compute the inferred mean of the coin's fairness\n",
        "inferred_mean = a_q / (a_q + b_q)\n",
        "# compute inferred standard deviation\n",
        "factor = b_q / (a_q * (1.0 + a_q + b_q))\n",
        "inferred_std = inferred_mean * math.sqrt(factor)\n",
        "\n",
        "print(\"\\nBased on the data and our prior belief, the fairness \" +\n",
        "      \"of the coin is %.3f +- %.3f\" % (inferred_mean, inferred_std))"
      ],
      "metadata": {
        "id": "mxxWQU0B2cok"
      },
      "execution_count": null,
      "outputs": []
    },
    {
      "cell_type": "code",
      "source": [
        "# Approximated posterior\n",
        "var_dist = dist.Beta(a_q,b_q)\n",
        "samples = var_dist.sample([5000])\n",
        "\n",
        "plt.hist(samples.detach().numpy(),histtype='step', linewidth=1,density=True)\n",
        "plt.xlim([0,1])"
      ],
      "metadata": {
        "id": "iu5ft6sI5oCw"
      },
      "execution_count": null,
      "outputs": []
    },
    {
      "cell_type": "markdown",
      "source": [
        "# Using Pyro to make a Bayesian Linear Regression\n",
        "\n",
        "Consider the following model for the data:\n",
        "\n",
        "$ y = f(x) + \\epsilon \\quad \\epsilon \\sim \\mathcal{N}(0,\\sigma)$\n",
        "\n",
        "For a \"deterministic\" linear model, we consider:\n",
        "\n",
        "$f(x) = w^T x + b \\quad \\vec{w},\\vec{x}\\in\\mathbb{R}^n, \\quad b\\in\\mathbb{R}$\n",
        "\n",
        "What if the coefficients of the linear regression are themselves random variables, that we want to characterise? I.e.:\n",
        "\n",
        "$f(x) = w^T x + b \\quad \\vec{x}\\in\\mathbb{R}^n, \\quad \\vec{w}\\sim \\mathcal{D}_1 \\quad b \\sim \\mathcal{D}_2$\n",
        "\n",
        "\n",
        "Below we use a tutorial adapted from https://pyro.ai/examples/intro_long.html, in a simplified problem (scalar regression)."
      ],
      "metadata": {
        "id": "ZKboRKNNmaA9"
      }
    },
    {
      "cell_type": "code",
      "source": [
        "import numpy as np\n",
        "\n",
        "# Generate Data\n",
        "nData = 100\n",
        "X = np.linspace(0,1,nData)\n",
        "\n",
        "Y = 2.0*X + 1.0 + np.random.normal(0,0.1,size=nData)\n",
        "\n",
        "X = torch.Tensor(X.reshape(nData,1))\n",
        "y = torch.Tensor(Y)"
      ],
      "metadata": {
        "id": "dBpEzkWYT16B"
      },
      "execution_count": null,
      "outputs": []
    },
    {
      "cell_type": "code",
      "source": [
        "plt.plot(X,Y,marker='.',ls='None')"
      ],
      "metadata": {
        "id": "jl1Z7XVUlgGI"
      },
      "execution_count": null,
      "outputs": []
    },
    {
      "cell_type": "code",
      "source": [
        "from torch import nn\n",
        "from pyro.nn import PyroModule\n",
        "\n",
        "# Regression model\n",
        "# scalar regression model\n",
        "linear_reg_model = PyroModule[nn.Linear](1, 1)\n",
        "\n",
        "# Define loss and optimize\n",
        "loss_fn = torch.nn.MSELoss(reduction='sum')\n",
        "optim = torch.optim.Adam(linear_reg_model.parameters(), lr=0.001)\n",
        "num_iterations = 6000 \n",
        "\n",
        "def train():\n",
        "    # run the model forward on the data\n",
        "    y_pred = linear_reg_model(X).squeeze(-1)\n",
        "    # calculate the mse loss\n",
        "    loss = loss_fn(y_pred, y)\n",
        "    # initialize gradients to zero\n",
        "    optim.zero_grad()\n",
        "    # backpropagate\n",
        "    loss.backward()\n",
        "    # take a gradient step\n",
        "    optim.step()\n",
        "    return loss\n",
        "\n",
        "for j in range(num_iterations):\n",
        "    loss = train()\n",
        "    if (j + 1) % 1000 == 0:\n",
        "        print(\"[iteration %04d] loss: %.4f\" % (j + 1, loss.item()))\n",
        "\n",
        "# Inspect learned parameters\n",
        "print(\"Learned parameters:\")\n",
        "for name, param in linear_reg_model.named_parameters():\n",
        "    print(name, param.data.numpy())"
      ],
      "metadata": {
        "id": "VTpawwqGjInu"
      },
      "execution_count": null,
      "outputs": []
    },
    {
      "cell_type": "code",
      "source": [
        "from sklearn.metrics import r2_score\n",
        "from matplotlib import pyplot as plt\n",
        "\n",
        "y_pred = linear_reg_model(X).squeeze(-1)\n",
        "print(r2_score(y,y_pred.detach().numpy()))\n",
        "\n",
        "y_pred = linear_reg_model(X).squeeze(-1)"
      ],
      "metadata": {
        "id": "RLGcY_dbVfgE"
      },
      "execution_count": null,
      "outputs": []
    },
    {
      "cell_type": "code",
      "source": [
        "fit = linear_reg_model(X).detach().cpu().numpy()\n",
        "\n",
        "plt.figure(figsize=(6, 6))\n",
        "plt.plot(X, y, \"o\")\n",
        "plt.plot(X, fit, ls='None',marker='.')\n",
        "plt.xlabel(\"x\")\n",
        "plt.ylabel(\"Y\")"
      ],
      "metadata": {
        "id": "DBr0YyQSWK3c"
      },
      "execution_count": null,
      "outputs": []
    },
    {
      "cell_type": "code",
      "source": [
        "from pyro.nn import PyroSample\n",
        "import torch.distributions.constraints as constraints\n",
        "\n",
        "pyro.clear_param_store()\n",
        "\n",
        "def model(X, Y=None):\n",
        "\n",
        "    bias = pyro.sample(\"bias\", dist.Normal(0., 1.))\n",
        "    weight1 = pyro.sample(\"weight1\", dist.Normal(0., 1.0))\n",
        "    sigma = pyro.sample(\"noise\", dist.Uniform(0., 10.))\n",
        "\n",
        "    mean = bias + weight1 * X\n",
        "\n",
        "    with pyro.plate(\"data\", len(X)):\n",
        "        return pyro.sample(\"obs\", dist.Normal(mean, sigma), obs=Y)\n",
        "\n",
        "def custom_guide(X, Y=None):\n",
        "    # parameters for the distribution of the bias random variable\n",
        "    # we assume bias is normally distributed\n",
        "    b_loc = pyro.param('bias_loc', lambda: torch.tensor(0.))\n",
        "    b_scale = pyro.param('bias_scale', lambda: torch.tensor(1.),\n",
        "                         constraint=constraints.positive)\n",
        "    \n",
        "\n",
        "    # parameters for the distribution of the noise random variable\n",
        "    # we assume noise is normally distributed with 0 mean, thus we only learn noise\n",
        "    sigma_loc = pyro.param('sigma_loc', lambda: torch.tensor(1.),\n",
        "                             constraint=constraints.positive)\n",
        "    \n",
        "    # parameters for the distribution of the weight random variable\n",
        "    # we assume weight is normally distributed\n",
        "    weights_loc = pyro.param('weights_loc', lambda: torch.tensor(1.))\n",
        "    weights_scale = pyro.param('weights_scale', lambda: torch.tensor(1.),\n",
        "                               constraint=constraints.positive)\n",
        "    \n",
        "\n",
        "    b = pyro.sample(\"bias\", dist.Normal(b_loc, b_scale))\n",
        "    b_a = pyro.sample(\"weight1\", dist.Normal(weights_loc, weights_scale))\n",
        "    sigma = pyro.sample(\"noise\", dist.Normal(sigma_loc, torch.tensor(0.05)))\n",
        "    return {\"bias\": b, \"weight1\": b_a, \"noise\": sigma}\n",
        "\n",
        "adam = pyro.optim.Adam({\"lr\": 0.005})\n",
        "elbo = pyro.infer.Trace_ELBO()\n",
        "svi = pyro.infer.SVI(model, custom_guide, adam, elbo)\n",
        "\n",
        "losses = []\n",
        "\n",
        "for step in range(3000):  # Consider running for more steps.\n",
        "    loss = svi.step(X.squeeze(-1), y) # this is just a fix for the dimension :c\n",
        "    losses.append(loss)\n",
        "    if step % 100 == 0:\n",
        "        print(f\"Elbo loss: {loss}\")\n",
        "\n",
        "plt.figure(figsize=(5, 2))\n",
        "plt.plot(losses)\n",
        "plt.xlabel(\"SVI step\")\n",
        "plt.ylabel(\"ELBO loss\");"
      ],
      "metadata": {
        "id": "zteA4lxIXygy"
      },
      "execution_count": null,
      "outputs": []
    },
    {
      "cell_type": "code",
      "source": [
        "for name, value in pyro.get_param_store().items():\n",
        "    print(name, pyro.param(name).data.cpu().numpy())"
      ],
      "metadata": {
        "id": "ZctFeCh7avM0"
      },
      "execution_count": null,
      "outputs": []
    },
    {
      "cell_type": "code",
      "source": [
        "X=X.squeeze(-1)\n",
        "\n",
        "fit = pyro.param('weights_loc').data.cpu().numpy()*X.data.cpu().numpy() +np.ones(nData)*pyro.param('bias_loc').data.cpu().numpy()\n",
        "fit1 = (pyro.param('weights_loc').data.cpu().numpy()+pyro.param('weights_scale').data.cpu().numpy())*X.data.cpu().numpy() \\\n",
        "+np.ones(nData)*(pyro.param('bias_loc').data.cpu().numpy()+pyro.param('bias_scale').data.cpu().numpy())\n",
        "fit2 = (pyro.param('weights_loc').data.cpu().numpy()-pyro.param('weights_scale').data.cpu().numpy())*X.data.cpu().numpy()\\\n",
        " +np.ones(nData)*(pyro.param('bias_loc').data.cpu().numpy()-pyro.param('bias_scale').data.cpu().numpy())\n",
        "\n",
        "plt.figure(figsize=(6, 6))\n",
        "plt.plot(X, y, \"o\")\n",
        "plt.plot(X, fit)\n",
        "plt.plot(X, fit1, alpha=0.6,color='blue')\n",
        "plt.plot(X, fit2, alpha=0.6,color='blue')"
      ],
      "metadata": {
        "id": "1d27LEo1CJyG"
      },
      "execution_count": null,
      "outputs": []
    },
    {
      "cell_type": "code",
      "source": [
        "# Automatic guide\n",
        "auto_guide = pyro.infer.autoguide.AutoNormal(model)"
      ],
      "metadata": {
        "id": "UTwubYnGGumQ"
      },
      "execution_count": null,
      "outputs": []
    },
    {
      "cell_type": "code",
      "source": [
        "adam = pyro.optim.Adam({\"lr\": 0.005})\n",
        "elbo = pyro.infer.Trace_ELBO()\n",
        "svi = pyro.infer.SVI(model, auto_guide, adam, elbo)\n",
        "\n",
        "losses = []\n",
        "\n",
        "for step in range(3000):  # Consider running for more steps.\n",
        "    loss = svi.step(X.squeeze(-1), y) # this is just a fix for the dimension :c\n",
        "    losses.append(loss)\n",
        "    if step % 100 == 0:\n",
        "        print(f\"Elbo loss: {loss}\")\n",
        "\n",
        "plt.figure(figsize=(5, 2))\n",
        "plt.plot(losses)\n",
        "plt.xlabel(\"SVI step\")\n",
        "plt.ylabel(\"ELBO loss\");"
      ],
      "metadata": {
        "id": "naAhDZ6oGviy"
      },
      "execution_count": null,
      "outputs": []
    },
    {
      "cell_type": "code",
      "source": [
        "for name, value in pyro.get_param_store().items():\n",
        "    print(name, pyro.param(name).data.cpu().numpy())"
      ],
      "metadata": {
        "id": "QQHCF79HHFZZ"
      },
      "execution_count": null,
      "outputs": []
    },
    {
      "cell_type": "code",
      "source": [
        "fit = pyro.param('AutoNormal.locs.weight1').data.cpu().numpy()*X.data.cpu().numpy() +np.ones(nData)*pyro.param('AutoNormal.locs.bias').data.cpu().numpy()\n",
        "fit1 = (pyro.param('AutoNormal.locs.weight1').data.cpu().numpy()+pyro.param('AutoNormal.scales.weight1').data.cpu().numpy())*X.data.cpu().numpy() \\\n",
        "+np.ones(nData)*(pyro.param('AutoNormal.locs.bias').data.cpu().numpy()+pyro.param('AutoNormal.scales.bias').data.cpu().numpy())\n",
        "fit2 = (pyro.param('AutoNormal.locs.weight1').data.cpu().numpy()-pyro.param('AutoNormal.scales.weight1').data.cpu().numpy())*X.data.cpu().numpy()\\\n",
        " +np.ones(nData)*(pyro.param('AutoNormal.locs.bias').data.cpu().numpy()-pyro.param('AutoNormal.scales.bias').data.cpu().numpy())\n",
        "\n",
        "\n",
        "plt.figure(figsize=(6, 6))\n",
        "plt.plot(X, y, \"o\")\n",
        "plt.plot(X, fit)\n",
        "plt.plot(X, fit1, alpha=0.6,color='blue')\n",
        "plt.plot(X, fit2, alpha=0.6,color='blue')"
      ],
      "metadata": {
        "id": "RUszjQ9wHPsL"
      },
      "execution_count": null,
      "outputs": []
    }
  ]
}