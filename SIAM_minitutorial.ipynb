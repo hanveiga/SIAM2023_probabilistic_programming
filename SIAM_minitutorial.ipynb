{
  "nbformat": 4,
  "nbformat_minor": 0,
  "metadata": {
    "colab": {
      "provenance": []
    },
    "kernelspec": {
      "name": "python3",
      "display_name": "Python 3"
    },
    "language_info": {
      "name": "python"
    }
  },
  "cells": [
    {
      "cell_type": "markdown",
      "source": [
        "# Bayesian Scientific Computing and Probabilistic Programming: inside and outside the “black box” \n",
        "\n",
        "Bayesian methods are increasingly important in scientific computing where uncertainties and incomplete information play a role. This mini-tutorial will walk participants through the basic probabilistic concepts to give the understanding of how inverse problems and parameter estimation problems can be recast in the form of Bayesian inference, as well as equip them with hands-on tools for tackling such problems. The minitutorial will consist of two parts.\n",
        "\n",
        "\n",
        " \n",
        "\n",
        "## Part I - [Daniela Calvetti](https://mathstats.case.edu/faculty/daniela-calvetti/), [Erkki Somersalo](https://mathstats.case.edu/faculty/erkki-somersalo/)\n",
        " \n",
        "will begin with the explanation of the overarching Bayesian philosophy, followed by the fundamentals of modelling and computation.  Participants will be provided with basic programs in Matlab that will be tested on both static as well as  evolutionary time-dependent problems. By the end of this session participants will have overcome the fear of looking inside the “black box” of Bayesian inference and have laid a foundation for building their own Bayesian scientific computing codes.\n",
        "\n",
        "\n",
        "\n",
        "\n",
        "\n",
        "## Part II - [Elizaveta Semenova](https://elizaveta-semenova.com/), [Maria han Veiga]()\n",
        "will explain what probabilistic programming languages are in the modern landscape, and  demonstrate abilities of one of such easy-to-use software packages. This “black box” approach will equip participants with a tool allowing them to focus on the scientific problem of interest, while inference is being taken care of by the inference engine. We will show how to use Python libraries to perform exact Bayesian inference (using Markov Chain Monte Carlo technique) as well as approximate techniques (such as variational inference)."
      ],
      "metadata": {
        "id": "AwvjP98tKlDI"
      }
    },
    {
      "cell_type": "markdown",
      "source": [
        "## Part II: probabilistic programming."
      ],
      "metadata": {
        "id": "0xYDeL_9NwB1"
      }
    },
    {
      "cell_type": "markdown",
      "source": [
        "- Parameter inference (coin toss)\n",
        "  - Explicitly\n",
        "  - MCMC \n",
        "\n",
        "- Introduction to Pyro:   \n",
        "  - Guides / models / etc\n",
        "  - Revisiting the coin toss parameter inference (MCMC)\n",
        "  - Variational inference\n",
        "  - Bayesian Linear regression"
      ],
      "metadata": {
        "id": "1vxyE56zy10_"
      }
    },
    {
      "cell_type": "code",
      "source": [
        "import numpy as np\n",
        "import scipy.stats as stats\n",
        "import matplotlib.pyplot as plt\n",
        "import math\n",
        "plt.style.use('seaborn-darkgrid')"
      ],
      "metadata": {
        "id": "hfzDrTNjqQ1V"
      },
      "execution_count": null,
      "outputs": []
    },
    {
      "cell_type": "code",
      "source": [
        "##############################################\n",
        "# prior x likelihood = posterior\n",
        "##############################################\n",
        "\n",
        "# coin toss with unknown parameter param\n",
        "\n",
        "def flip_coin(sucess, n_prev, n,param=0.2):\n",
        "  for i in range(n):\n",
        "    p = stats.bernoulli.rvs(param,size=1)\n",
        "    if p == 1:\n",
        "      sucess+=1\n",
        "    else:\n",
        "      sucess = sucess\n",
        "  return sucess, n_prev+n\n",
        "\n",
        "sucess, n = flip_coin(0,0,10)\n",
        "print(sucess,n)\n",
        "\n",
        "# define grid points\n",
        "grid_points=100\n",
        "\n",
        "# define grid\n",
        "p_grid = np.linspace(0, 1, grid_points)\n",
        "\n",
        "# compute likelihood at each point in the grid\n",
        "likelihood = stats.binom.pmf(300, 600, p_grid)\n",
        "prior1 = np.repeat(1, grid_points)"
      ],
      "metadata": {
        "id": "FUN0Xi_MqRQD",
        "colab": {
          "base_uri": "https://localhost:8080/"
        },
        "outputId": "600db616-63d8-401e-eaa4-00bb61f23a93"
      },
      "execution_count": null,
      "outputs": [
        {
          "output_type": "stream",
          "name": "stdout",
          "text": [
            "1 10\n"
          ]
        }
      ]
    },
    {
      "cell_type": "code",
      "source": [
        "def computePosterior(likelihood, prior):\n",
        "    \n",
        "    # compute product of likelihood and prior\n",
        "    unstd_posterior = likelihood * prior\n",
        "\n",
        "    # standardize posterior\n",
        "    posterior = unstd_posterior / unstd_posterior.sum()\n",
        "    \n",
        "    plt.figure(figsize=(17, 3))\n",
        "    ax1 = plt.subplot(131)\n",
        "    ax1.set_title(\"Prior\")\n",
        "    plt.plot(p_grid, prior)\n",
        "\n",
        "    ax2 = plt.subplot(132)\n",
        "    ax2.set_title(\"Likelihood\")\n",
        "    plt.plot(p_grid, likelihood)\n",
        "\n",
        "    ax3 = plt.subplot(133)\n",
        "    ax3.set_title(\"Posterior\")\n",
        "    plt.plot(p_grid, posterior)\n",
        "    plt.show()\n",
        "    \n",
        "    return posterior"
      ],
      "metadata": {
        "id": "eByFibrwqRZq"
      },
      "execution_count": null,
      "outputs": []
    },
    {
      "cell_type": "code",
      "source": [
        "prior1 = np.repeat(1, grid_points)  \n",
        "sucess, n = flip_coin(0,0,100)\n",
        "print(sucess,n)\n",
        "likelihood = stats.binom.pmf(sucess, n, p_grid)\n",
        "posterior = computePosterior(likelihood, prior1)\n",
        "\n",
        "\n",
        "sucess, n = flip_coin(sucess,100,1000)\n",
        "print(sucess,n)\n",
        "likelihood = stats.binom.pmf(sucess, n, p_grid)\n",
        "posterior1 = computePosterior(likelihood, posterior)"
      ],
      "metadata": {
        "colab": {
          "base_uri": "https://localhost:8080/",
          "height": 379
        },
        "id": "4ZAj2aNaqRdq",
        "outputId": "bcb843f1-e630-4da0-f012-f01cd57e68ca"
      },
      "execution_count": null,
      "outputs": [
        {
          "output_type": "stream",
          "name": "stdout",
          "text": [
            "25 100\n"
          ]
        },
        {
          "output_type": "display_data",
          "data": {
            "text/plain": [
              "<Figure size 1224x216 with 3 Axes>"
            ],
            "image/png": "[encoded data removed]"
          },
          "metadata": {}
        },
        {
          "output_type": "stream",
          "name": "stdout",
          "text": [
            "224 1100\n"
          ]
        },
        {
          "output_type": "display_data",
          "data": {
            "text/plain": [
              "<Figure size 1224x216 with 3 Axes>"
            ],
            "image/png": "[encoded data removed]"
          },
          "metadata": {}
        }
      ]
    },
    {
      "cell_type": "code",
      "source": [
        "prior2 = (p_grid >= 0.25).astype(int)\n",
        "# different prior\n"
      ],
      "metadata": {
        "id": "akBoC_lhqRhZ"
      },
      "execution_count": null,
      "outputs": []
    },
    {
      "cell_type": "code",
      "source": [
        "prior3 = np.exp(- 5 * abs(p_grid - 0.5)) \n",
        "# different prior"
      ],
      "metadata": {
        "id": "a0pm5iVHqRlk"
      },
      "execution_count": null,
      "outputs": []
    },
    {
      "cell_type": "markdown",
      "source": [
        "We have now seen an example where we could calculate the posterior exactly. It is not always possible. Iterative algorithms exist, such as MCMC, to estimate the posterior numerically.\n",
        "\n",
        "# MCMC Metropolis-Hastings \n",
        "\n",
        "Given a probability density $\\pi$ called\n",
        "the _target_, defined on a state space\n",
        "$X$, and computable up to a multiplying constant, $\\pi(x) \\propto \\tilde{\\pi}(x)$, the __Metropolis–Hastings__ (1953,1970) algorithm, proposes a generic way to construct a Markov chain on $X$ that is ergodic and stationary with respect to $\\pi$, meaning that, if $X(t) \\sim \\pi(x)$, then $X(t+1) \\sim \\pi(x)$ — and that therefore converges in distribution to $\\pi$.\n",
        "\n",
        "The main motivation for using Markov chains is that they provide shortcuts in cases where generic sampling requires too much effort from the experimenter. Markov chains construct a progressive picture of the target distribution, proceeding by local exploration of the state space $X$ until all the regions of interest have been uncovered.\n",
        "\n",
        "## The algorithm\n",
        "\n",
        "The Metropolis–Hastings algorithm\n",
        "associated with a target density $\\pi$ requires the choice of a conditional density $q$ also called proposal or candidate\n",
        "kernel. The transition from the value\n",
        "of the Markov chain $X(t)$ at time $t$\n",
        "and its value at time $t + 1$ proceeds\n",
        "via the following transition step:\n",
        "\n",
        "1. Given $x=X(t)$\n",
        "2. Generate $y_t= q(y|x) $  \n",
        "\n",
        "3. $ X(t+1) = \\begin{cases} \n",
        "      Y_t & \\mbox{with probability} \\quad  p \\\\\n",
        "      x & \\mbox{with probability}  \\quad 1-p\n",
        "   \\end{cases} $\n",
        "\n",
        "   where $p = min\\left(\\frac{\\tilde{\\pi}(y)}{\\tilde{\\pi}(x)} \\frac{q(x|y)}{q(y|x)},1 \\right)$\n"
      ],
      "metadata": {
        "id": "DtMz_KMDvIx3"
      }
    },
    {
      "cell_type": "code",
      "source": [
        "def target(likelihood, prior, n, h, parameter):\n",
        "    if parameter < 0 or parameter > 1:\n",
        "        return 0\n",
        "    else:\n",
        "        return likelihood(n, parameter).pmf(h)*prior.pdf(parameter)"
      ],
      "metadata": {
        "id": "s64eAEWQq-bX"
      },
      "execution_count": null,
      "outputs": []
    },
    {
      "cell_type": "code",
      "source": [
        "h, n = flip_coin(0,0,100,param=0.3)\n",
        "a = 10\n",
        "b = 10\n",
        "likelihood = stats.binom\n",
        "prior = stats.beta(a, b)\n",
        "sigma = 0.3"
      ],
      "metadata": {
        "id": "PzGUxW8RrYY5"
      },
      "execution_count": null,
      "outputs": []
    },
    {
      "cell_type": "code",
      "source": [
        "naccept = 0\n",
        "parameter = 0.1 # initial value for parameter\n",
        "niters = 10000\n",
        "\n",
        "samples = np.zeros(niters+1)\n",
        "samples[0] = parameter\n",
        "\n",
        "for i in range(niters):\n",
        "    parameter_p = parameter + stats.norm(0, sigma).rvs()\n",
        "    rho = min(1, target(likelihood, prior, n, h, parameter_p)/target(likelihood, prior, n, h, parameter ))\n",
        "    u = np.random.uniform()\n",
        "    if u < rho:\n",
        "        naccept += 1\n",
        "        parameter = parameter_p\n",
        "    samples[i+1] = parameter"
      ],
      "metadata": {
        "id": "IHa3kAJ2rYdo"
      },
      "execution_count": null,
      "outputs": []
    },
    {
      "cell_type": "code",
      "source": [
        "nmcmc = len(samples)//2\n",
        "print(\"Portion of accepted steps = \" + str(naccept/niters))"
      ],
      "metadata": {
        "colab": {
          "base_uri": "https://localhost:8080/"
        },
        "id": "VwEsIlZmrYhX",
        "outputId": "2e7631fa-01d8-441f-e7ab-75676cf2b651"
      },
      "execution_count": null,
      "outputs": [
        {
          "output_type": "stream",
          "name": "stdout",
          "text": [
            "Portion of accepted steps = 0.66995\n"
          ]
        }
      ]
    },
    {
      "cell_type": "code",
      "source": [
        "post = stats.beta(h+a, n-h+b)\n",
        "thetas = np.linspace(0, 1, 200)\n",
        "\n",
        "plt.figure(figsize=(8, 6))\n",
        "plt.hist(samples[nmcmc:], 20, histtype='step', linewidth=1, label='Distribution of posterior samples', density=True);\n",
        "plt.hist(prior.rvs(nmcmc), 40, histtype='step',  linewidth=1, label='Distribution of prior samples', density=True);\n",
        "plt.plot(thetas, post.pdf(thetas), c='red', linestyle='--', alpha=0.5, label='True posterior')\n",
        "plt.xlim([0,1]);\n",
        "plt.legend(loc='best');"
      ],
      "metadata": {
        "colab": {
          "base_uri": "https://localhost:8080/",
          "height": 371
        },
        "id": "WgVQW9iurYk6",
        "outputId": "60991cb3-6677-49c8-9a9c-2d81c7dbff52"
      },
      "execution_count": null,
      "outputs": [
        {
          "output_type": "display_data",
          "data": {
            "text/plain": [
              "<Figure size 576x432 with 1 Axes>"
            ],
            "image/png": "[encoded data removed]"
          },
          "metadata": {}
        }
      ]
    },
    {
      "cell_type": "code",
      "source": [
        "## Convergence diagnostics\n",
        "\n",
        "def mh_coin(niters, n, h, parameter, likelihood, prior, sigma):\n",
        "    samples = [parameter]\n",
        "    while len(samples) < niters:\n",
        "        parameter_p = parameter + stats.norm(0, sigma).rvs()\n",
        "        rho = min(1, target(likelihood, prior, n, h, parameter_p)/target(likelihood, prior, n, h, parameter ))\n",
        "        u = np.random.uniform()\n",
        "        if u < rho:\n",
        "            parameter = parameter_p\n",
        "        samples.append(parameter)\n",
        "        \n",
        "    return samples\n"
      ],
      "metadata": {
        "id": "FE_zgHQprYoa"
      },
      "execution_count": null,
      "outputs": []
    },
    {
      "cell_type": "markdown",
      "source": [
        "Computing several chains"
      ],
      "metadata": {
        "id": "eUeFUNzHIsZO"
      }
    },
    {
      "cell_type": "code",
      "source": [
        "h, n = flip_coin(0,0,100,param=0.3)\n",
        "lik = stats.binom\n",
        "prior = stats.beta(a, b)\n",
        "sigma = 0.05\n",
        "niters = 500"
      ],
      "metadata": {
        "id": "QUashgx2rYsH"
      },
      "execution_count": null,
      "outputs": []
    },
    {
      "cell_type": "code",
      "source": [
        "chains = [mh_coin(niters, n, h, parameter, likelihood, prior, sigma) for parameter in np.arange(0.1, 1, 0.2)]"
      ],
      "metadata": {
        "id": "0Z7wzP0xrYvs"
      },
      "execution_count": null,
      "outputs": []
    },
    {
      "cell_type": "code",
      "source": [
        "plt.figure(figsize=(8, 6))\n",
        "\n",
        "for chain in chains:\n",
        "    plt.plot(chain, '-o')\n",
        "    \n",
        "plt.xlim([0, niters])\n",
        "plt.ylim([0, 1]);"
      ],
      "metadata": {
        "colab": {
          "base_uri": "https://localhost:8080/",
          "height": 375
        },
        "id": "i4ddRH0trYzb",
        "outputId": "2e71a2fb-2839-4d8e-84eb-e3d7ce9c9843"
      },
      "execution_count": null,
      "outputs": [
        {
          "output_type": "display_data",
          "data": {
            "text/plain": [
              "<Figure size 576x432 with 1 Axes>"
            ],
            "image/png": "[encoded data removed]"
          },
          "metadata": {}
        }
      ]
    },
    {
      "cell_type": "code",
      "source": [
        "for chain in chains:\n",
        "  plt.xlim([0,1])\n",
        "  plt.hist(chain,histtype='step', linewidth=1,density=True)\n",
        "plt.plot(thetas, post.pdf(thetas), c='red', linestyle='--', alpha=0.5, label='True posterior')\n",
        "\n",
        "plt.legend()"
      ],
      "metadata": {
        "colab": {
          "base_uri": "https://localhost:8080/",
          "height": 281
        },
        "id": "M2E-QN5_4ult",
        "outputId": "4229470b-a044-48a7-ba17-9f098639458b"
      },
      "execution_count": null,
      "outputs": [
        {
          "output_type": "execute_result",
          "data": {
            "text/plain": [
              "<matplotlib.legend.Legend at 0x7fc780ce3d90>"
            ]
          },
          "metadata": {},
          "execution_count": 50
        },
        {
          "output_type": "display_data",
          "data": {
            "text/plain": [
              "<Figure size 432x288 with 1 Axes>"
            ],
            "image/png": "[encoded data removed]"
          },
          "metadata": {}
        }
      ]
    },
    {
      "cell_type": "markdown",
      "source": [
        "# Probabilistic programming languages (PPLs)"
      ],
      "metadata": {
        "id": "TItqtGZ-RfWD"
      }
    },
    {
      "cell_type": "markdown",
      "source": [
        "### 1st generation: Bugs, WinBugs, Jags, etc.\n",
        "\n",
        "- Inference engine based on Monte Carlo methods.\n",
        "\n",
        "- They did not scale to large data samples/high-dimensional models."
      ],
      "metadata": {
        "id": "YUu1_SMIRhn5"
      }
    },
    {
      "cell_type": "markdown",
      "source": [
        "### 2nd generation: Infer.net, Factorie, Amidst, etc.\n",
        "\n",
        "- Inference engine based on message passage algorithms and/or variational\n",
        "inference methods.\n",
        "\n",
        "- They did scale to large data samples/high-dimensional models.\n",
        "\n",
        "- Restricted probabilistic model family (i.e. factor graphs, conjuage exponential family, etc.)"
      ],
      "metadata": {
        "id": "zO8qRRwtR1ZU"
      }
    },
    {
      "cell_type": "markdown",
      "source": [
        "### 3rd generation: Stan, TensorFlow Probability, PyMC3, Pyro, Numpyro, Turing.jl, NIMBLE, Edward, InferPy, etc\n",
        "\n",
        "- Hamiltonian Monte-Carlo, Black Box Variational Inference, etc\n",
        "\n",
        "- They did scale to large data samples/high-dimensional models.\n",
        "\n",
        "- Enable probabilistic models with deep neural networks:\n",
        "  - Rely on deep learning frameworks (TensorFlow, Pytorch, Theano, etc).\n",
        "  - Specialized hardware like GPUs, TPUs, etc.\n",
        "  - Automatic differentiation methods.\n"
      ],
      "metadata": {
        "id": "dZZGVHR-SG8-"
      }
    },
    {
      "cell_type": "markdown",
      "source": [
        "## Pyro (www.pyro.ai)\n",
        "\n",
        "PyRo demo: https://colab.research.google.com/drive/1Wkc8izTsjCrUrNwKKQL4K9uSxDIaPZWp?usp=sharing"
      ],
      "metadata": {
        "id": "5RTjjd03swGz"
      }
    },
    {
      "cell_type": "code",
      "source": [
        "!pip install -q --upgrade pyro-ppl torch"
      ],
      "metadata": {
        "id": "dagAYkNAzwd8"
      },
      "execution_count": null,
      "outputs": []
    },
    {
      "cell_type": "code",
      "source": [
        "import pyro\n",
        "import torch\n",
        "import pyro.distributions as dist\n",
        "from pyro.infer.mcmc import MCMC, NUTS, HMC\n",
        "\n",
        "print(pyro.__version__)"
      ],
      "metadata": {
        "id": "gn8skbgks6UW"
      },
      "execution_count": null,
      "outputs": []
    },
    {
      "cell_type": "markdown",
      "source": [
        "## Pyro's dstributions:\n",
        "\n",
        "https://docs.pyro.ai/en/stable/distributions.html"
      ],
      "metadata": {
        "id": "H5zLdFQYdo8Y"
      }
    },
    {
      "cell_type": "code",
      "source": [
        "normal = dist.Normal(0,1)\n",
        "normal"
      ],
      "metadata": {
        "id": "QVc5h49LdzwC"
      },
      "execution_count": null,
      "outputs": []
    },
    {
      "cell_type": "code",
      "source": [
        "sample = normal.sample()\n",
        "sample"
      ],
      "metadata": {
        "id": "xeZ5GhnSd3R0"
      },
      "execution_count": null,
      "outputs": []
    },
    {
      "cell_type": "code",
      "source": [
        "sample = normal.sample(sample_shape=[3,4,5])\n",
        "print(sample)\n",
        "print(sample.shape)"
      ],
      "metadata": {
        "id": "iZoERyANd566"
      },
      "execution_count": null,
      "outputs": []
    },
    {
      "cell_type": "code",
      "source": [
        "normal.log_prob(sample)"
      ],
      "metadata": {
        "id": "GX4pX7zQd__c"
      },
      "execution_count": null,
      "outputs": []
    },
    {
      "cell_type": "markdown",
      "source": [
        "## Pyro's models:\n",
        "\n",
        "https://pyro.ai/examples/intro_long.html"
      ],
      "metadata": {
        "id": "qYwhp6_vebNm"
      }
    },
    {
      "cell_type": "markdown",
      "source": [
        "Probabilistic models in Pyro are specified as Python functions __model(\\*args, \\**kwargs)__ that generate observed data from latent variables using special primitive functions whose behavior can be changed by Pyro’s internals depending on the high-level computation being performed.\n",
        "\n",
        "Specifically, the different mathematical pieces of __model()__ are encoded via the mapping:\n",
        "\n",
        "latent random variables $z$ -- _pyro.sample_\n",
        "\n",
        "observed random variables $x$ -- _pyro.sample_ with the 'obs' keyword argument\n",
        "\n",
        "learnable parameters $\\theta$ -- _pyro.param_\n",
        "\n",
        "plates -- _pyro.plate_ context managers"
      ],
      "metadata": {
        "id": "a0xMBkKX0NZD"
      }
    },
    {
      "cell_type": "markdown",
      "source": [
        "Revisiting coin flip using pyro MCMC"
      ],
      "metadata": {
        "id": "p6A6b3_bmBn8"
      }
    },
    {
      "cell_type": "code",
      "source": [
        "def model(data):\n",
        "    # set prior\n",
        "    alpha0 = torch.tensor(10.0)\n",
        "    beta0 = torch.tensor(10.0)\n",
        "    prior = dist.Beta(alpha0, beta0)\n",
        "\n",
        "    # sample z from the prior\n",
        "    z = pyro.sample(\"z\", prior)\n",
        "\n",
        "    with pyro.plate(\"data_plate\"):    \n",
        "        # observe data\n",
        "        pyro.sample(\"obs\", dist.Bernoulli(z), obs=data)"
      ],
      "metadata": {
        "id": "WKVDq4m7eat2"
      },
      "execution_count": null,
      "outputs": []
    },
    {
      "cell_type": "code",
      "source": [
        "p = stats.bernoulli.rvs(0.2,size=20)      \n",
        "data = torch.tensor(p,dtype=float)"
      ],
      "metadata": {
        "id": "OSLCjzKJVSSn"
      },
      "execution_count": null,
      "outputs": []
    },
    {
      "cell_type": "code",
      "source": [
        "data"
      ],
      "metadata": {
        "colab": {
          "base_uri": "https://localhost:8080/"
        },
        "id": "DGeEgCRKV6WK",
        "outputId": "c08fc068-7748-47e7-e662-ae686636bddd"
      },
      "execution_count": null,
      "outputs": [
        {
          "output_type": "execute_result",
          "data": {
            "text/plain": [
              "tensor([0., 0., 0., 0., 0., 1., 0., 1., 0., 0., 0., 0., 0., 0., 0., 0., 1., 0.,\n",
              "        1., 1.], dtype=torch.float64)"
            ]
          },
          "metadata": {},
          "execution_count": 57
        }
      ]
    },
    {
      "cell_type": "code",
      "source": [
        "kernel = HMC(model) # Hamiltonian Monte Carlo:  Compared to using a Gaussian random walk\n",
        "                    # proposal distribution in the Metropolis–Hastings algorithm,\n",
        "                    # Hamiltonian Monte Carlo reduces the correlation between\n",
        "                    # successive sampled states by proposing moves to distant\n",
        "                    # states which maintain a high probability of acceptance. \n",
        "                    \n",
        "m = MCMC(kernel, num_samples=1000, num_chains=2)\n",
        "m.run(data = data)"
      ],
      "metadata": {
        "id": "41vJA72uearS",
        "colab": {
          "base_uri": "https://localhost:8080/"
        },
        "outputId": "6478669f-6bd9-42c1-f00a-a56bed552343"
      },
      "execution_count": null,
      "outputs": [
        {
          "output_type": "stream",
          "name": "stderr",
          "text": [
            "/usr/local/lib/python3.8/dist-packages/pyro/infer/mcmc/api.py:497: UserWarning: num_chains=2 is more than available_cpu=1. Chains will be drawn sequentially.\n",
            "  warnings.warn(\n",
            "Sample [0]: 100%|██████████| 2000/2000 [00:19, 103.76it/s, step size=8.56e-01, acc. prob=0.995]\n",
            "Sample [1]: 100%|██████████| 2000/2000 [00:16, 124.96it/s, step size=9.47e-01, acc. prob=0.949]\n"
          ]
        }
      ]
    },
    {
      "cell_type": "code",
      "source": [
        "samples = m.get_samples()\n",
        "print(samples['z'])\n",
        "plt.xlim([0,1])\n",
        "plt.hist(samples['z'],histtype='step', linewidth=1,density=True)"
      ],
      "metadata": {
        "colab": {
          "base_uri": "https://localhost:8080/",
          "height": 409
        },
        "id": "WTbuui4okPho",
        "outputId": "7488851a-2f99-43c3-ab68-023bb81b1a6b"
      },
      "execution_count": null,
      "outputs": [
        {
          "output_type": "stream",
          "name": "stdout",
          "text": [
            "tensor([0.3618, 0.3675, 0.3671,  ..., 0.3513, 0.3733, 0.3565],\n",
            "       dtype=torch.float64)\n"
          ]
        },
        {
          "output_type": "execute_result",
          "data": {
            "text/plain": [
              "(array([0.73586281, 1.86870424, 2.09139957, 3.29201784, 6.77768379,\n",
              "        2.60456705, 1.32648954, 0.52284989, 0.11618886, 0.02904722]),\n",
              " array([0.12766143, 0.17930149, 0.23094155, 0.28258161, 0.33422167,\n",
              "        0.38586173, 0.43750179, 0.48914185, 0.54078191, 0.59242197,\n",
              "        0.64406203]),\n",
              " [<matplotlib.patches.Polygon at 0x7fc7808ee940>])"
            ]
          },
          "metadata": {},
          "execution_count": 60
        },
        {
          "output_type": "display_data",
          "data": {
            "text/plain": [
              "<Figure size 432x288 with 1 Axes>"
            ],
            "image/png": "[encoded data removed]"
          },
          "metadata": {}
        }
      ]
    },
    {
      "cell_type": "markdown",
      "source": [
        "# Approximate posterior estimation: variational inference\n",
        "\n",
        "Bayesian inference involves characterizing the posterior\n",
        "\n",
        "\\begin{align}\n",
        "  p(\\theta|y,d) = \\frac{p(y|\\theta,d)p(\\theta)}{p(y)},\n",
        "\\end{align}\n",
        "\n",
        "where $p(\\theta|y,d)$ is the posterior, $p(\\theta)$ is the prior, $p(y|\\theta,d)$ is the likelihood, and $p(y)$ is the evidence. \n",
        "\n",
        "Variational inference approximates the Bayesian posterior with a density $q(\\theta;\\lambda)$, chosen from a parametric family of\n",
        "densities that is closest to the true posterior in the Kullback-Leibler (KL) divergence sense, namely:\n",
        "\n",
        "\\begin{align}\n",
        "  \\lambda^{\\ast} &= \\mbox{argmin}_{\\lambda}\n",
        "  KL\\left[q(\\theta;\\lambda)||p(\\theta|y)\\right] \\nonumber\n",
        "\\end{align}\n",
        "\n",
        "The KL divergence between $q$ and $p$ can be written as:\n",
        "\n",
        "\\begin{align}\n",
        "  KL\\left[q(\\theta;\\lambda)||p(\\theta|y)\\right] &= \\mathbb{E}_{q}\\left[\\ln q(\\theta;\\lambda)\\right] - \\mathbb{E}_{q}\\left[\\ln p(\\theta|y)\\right]\\\\\n",
        "  &= \\mathbb{E}_{q}\\left[\\ln q(\\theta;\\lambda)\\right] - \\mathbb{E}_{q}\\left[\\ln p(y|\\theta)\\right] - \\mathbb{E}_{q}\\left[\\ln p(\\theta)\\right] + \\mathbb{E}_{q}\\left[\\ln p(y)\\right]\\end{align}\n",
        "\n",
        "We can rewrite the minimisation above as:\n",
        "\\begin{align}\n",
        "  \\mbox{argmin}_{\\lambda}\n",
        "  KL\\left[q(\\theta;\\lambda)||p(\\theta|y)\\right] &= \\mbox{argmax}_{\\lambda} \\mathbb{E}_{q}\\left[\\ln p(y|\\theta)\\right] + \\mathbb{E}_{q}\\left[\\ln p(\\theta)\\right] - \\mathbb{E}_{q}\\left[\\ln q(\\theta;\\lambda)\\right]\n",
        "\\end{align}\n",
        "to arrive at the well-known evidence lower bound (ELBO).\n",
        "\n",
        "In variational inference, we seek parameters $\\lambda$ that maximizes the ELBO, considering a distribution belonging to some fixed family of distributions. We turn the problem of computing the posterior into an optimisation problem."
      ],
      "metadata": {
        "id": "9Bye4S2Hmfcd"
      }
    },
    {
      "cell_type": "code",
      "source": [
        "from pyro.optim import Adam\n",
        "from pyro.infer import SVI, Trace_ELBO\n",
        "import torch.distributions.constraints as constraints\n",
        "\n",
        "# in addition to model, we must define the \"guide\", which describes the\n",
        "# variational inference family of distributions\n",
        "\n",
        "# https://pyro.ai/examples/svi_part_i.html\n",
        "\n",
        "def guide(data):\n",
        "    # register the two variational parameters with Pyro.\n",
        "    # family of distributions: Beta distributions\n",
        "\n",
        "    a_q = pyro.param(\"a_q\", torch.tensor(10.0),\n",
        "                        constraint=constraints.positive)\n",
        "    b_q = pyro.param(\"b_q\", torch.tensor(10.0),\n",
        "                        constraint=constraints.positive)\n",
        "    \n",
        "    # sample coin parameter from the distribution Beta(a_q, b_q)\n",
        "    pyro.sample(\"z\", dist.Beta(a_q, b_q))"
      ],
      "metadata": {
        "id": "lCo8XAXh1wgn"
      },
      "execution_count": null,
      "outputs": []
    },
    {
      "cell_type": "code",
      "source": [
        "# set up the optimizer\n",
        "adam_params = {\"lr\": 0.05, \"betas\": (0.90, 0.999)}\n",
        "optimizer = Adam(adam_params)\n",
        "\n",
        "# setup the inference algorithm\n",
        "svi = SVI(model, guide, optimizer, loss=Trace_ELBO())\n",
        "\n",
        "n_steps = 5000\n",
        "\n",
        "# do gradient steps\n",
        "for step in range(n_steps):\n",
        "    svi.step(data)\n"
      ],
      "metadata": {
        "id": "mmr0lJhNmeyE"
      },
      "execution_count": null,
      "outputs": []
    },
    {
      "cell_type": "code",
      "source": [
        "# grab the learned variational parameters\n",
        "a_q = pyro.param(\"a_q\").item()\n",
        "b_q = pyro.param(\"b_q\").item()\n",
        "\n",
        "# here we use some facts about the Beta distribution\n",
        "# compute the inferred mean of the coin's fairness\n",
        "inferred_mean = a_q / (a_q + b_q)\n",
        "# compute inferred standard deviation\n",
        "factor = b_q / (a_q * (1.0 + a_q + b_q))\n",
        "inferred_std = inferred_mean * math.sqrt(factor)\n",
        "\n",
        "print(\"\\nBased on the data and our prior belief, the fairness \" +\n",
        "      \"of the coin is %.3f +- %.3f\" % (inferred_mean, inferred_std))"
      ],
      "metadata": {
        "colab": {
          "base_uri": "https://localhost:8080/"
        },
        "id": "mxxWQU0B2cok",
        "outputId": "a9828c50-904e-4708-9961-5cd4cf118485"
      },
      "execution_count": null,
      "outputs": [
        {
          "output_type": "stream",
          "name": "stdout",
          "text": [
            "\n",
            "Based on the data and our prior belief, the fairness of the coin is 0.344 +- 0.074\n"
          ]
        }
      ]
    },
    {
      "cell_type": "code",
      "source": [
        "# Approximated posterior\n",
        "var_dist = dist.Beta(a_q,b_q)\n",
        "samples = var_dist.sample([5000])\n",
        "\n",
        "plt.hist(samples.detach().numpy(),histtype='step', linewidth=1,density=True)\n",
        "plt.xlim([0,1])"
      ],
      "metadata": {
        "colab": {
          "base_uri": "https://localhost:8080/",
          "height": 280
        },
        "id": "iu5ft6sI5oCw",
        "outputId": "55fb8c54-72d5-4461-de9b-e4e584b5e223"
      },
      "execution_count": null,
      "outputs": [
        {
          "output_type": "execute_result",
          "data": {
            "text/plain": [
              "(0.0, 1.0)"
            ]
          },
          "metadata": {},
          "execution_count": 65
        },
        {
          "output_type": "display_data",
          "data": {
            "text/plain": [
              "<Figure size 432x288 with 1 Axes>"
            ],
            "image/png": "[encoded data removed]"
          },
          "metadata": {}
        }
      ]
    },
    {
      "cell_type": "markdown",
      "source": [
        "Using Pyro to make a Bayesian Linear Regression"
      ],
      "metadata": {
        "id": "ZKboRKNNmaA9"
      }
    },
    {
      "cell_type": "code",
      "source": [
        "# adapt tutorial https://pyro.ai/examples/intro_long.html"
      ],
      "metadata": {
        "id": "qjCk2cNNeamp"
      },
      "execution_count": null,
      "outputs": []
    },
    {
      "cell_type": "code",
      "source": [
        "adam_params = {\"lr\": 0.1, \"betas\": (0.90, 0.999)}\n",
        "optimizer = Adam(adam_params)\n",
        "guide2 = pyro.infer.autoguide.AutoNormal(model)\n",
        "svi = SVI(model, guide2, optimizer, loss=Trace_ELBO())\n",
        "\n",
        "n_steps = 5000\n",
        "\n",
        "# do gradient steps\n",
        "for step in range(n_steps):\n",
        "    svi.step(data)\n",
        "\n",
        "pyro.param"
      ],
      "metadata": {
        "colab": {
          "base_uri": "https://localhost:8080/"
        },
        "id": "qGvgXV25gP7_",
        "outputId": "e0df64ac-2c15-477a-b238-e8395dcee273"
      },
      "execution_count": null,
      "outputs": [
        {
          "output_type": "execute_result",
          "data": {
            "text/plain": [
              "<function pyro.primitives.param(name, init_tensor=None, constraint=Real(), event_dim=None)>"
            ]
          },
          "metadata": {},
          "execution_count": 85
        }
      ]
    },
    {
      "cell_type": "code",
      "source": [
        "for name, value in pyro.get_param_store().items():\n",
        "    print(name, pyro.param(name).data.cpu().numpy())"
      ],
      "metadata": {
        "colab": {
          "base_uri": "https://localhost:8080/"
        },
        "id": "VTpawwqGjInu",
        "outputId": "fbdaeda0-07ff-4b47-bd35-578f3398a4a6"
      },
      "execution_count": null,
      "outputs": [
        {
          "output_type": "stream",
          "name": "stdout",
          "text": [
            "a_q 13.835442\n",
            "b_q 26.365393\n",
            "AutoNormal.locs.z -0.58986884\n",
            "AutoNormal.scales.z 0.37546664\n"
          ]
        }
      ]
    }
  ]
}